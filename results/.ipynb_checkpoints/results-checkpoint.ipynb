{
 "cells": [
  {
   "cell_type": "code",
   "execution_count": 148,
   "metadata": {},
   "outputs": [],
   "source": [
    "import json\n",
    "import pandas as pd\n",
    "import numpy as np"
   ]
  },
  {
   "cell_type": "code",
   "execution_count": 155,
   "metadata": {},
   "outputs": [],
   "source": [
    "def summary_statistics_for_noise_tree_comparison(distance_result_dict):\n",
    "    \n",
    "    index = pd.MultiIndex.from_product([['Asymmetric 0.5','Asymmetric 1.0','Asymmetric 2.0','Symmetric_0.5',\n",
    "                                        'Symmetric_1.0', 'Symmetric_2.0']])\n",
    "\n",
    "    columns_statistics = pd.MultiIndex.from_product([['Minimum', 'Maximum', 'Mean','Median'],\n",
    "                                                     ['Original', 'Noise reduced']\n",
    "                                                    ])\n",
    "    columns_frequencies = pd.MultiIndex.from_product([['Original > Inferred','Inferred > Original',\n",
    "                                                      'Equal Distances','Original = Reference Tree',\n",
    "                                                      'Inferred = Reference Tree','Both = Reference Tree',\n",
    "                                                      'Total'\n",
    "                                                     ]])\n",
    "    columns_noise_reduction = pd.MultiIndex.from_product([['Average Noise Reduction'\n",
    "                                                          ]])\n",
    "\n",
    "    stats_array_freq = np.array([])\n",
    "    stats_array_stat = np.array([])\n",
    "    stats_noise_reduc = np.array([])\n",
    "    \n",
    "    for subfolder_name, subfolder_dist_noise_dic in distance_result_dict.items():\n",
    "        \n",
    "        frequencies_dict = [ \n",
    "            len([value for value in subfolder_dist_noise_dic.values() if (value[0] > value[1]) and (value[1] != 0)]),\n",
    "            len([value for value in subfolder_dist_noise_dic.values() if (value[0] < value[1]) and (value[0] != 0)]),\n",
    "            len([value for value in subfolder_dist_noise_dic.values() if (value[0] == value[1]) and (value[1] != 0)]),\n",
    "            len([value for value in subfolder_dist_noise_dic.values() if (value[0] == 0)and (value[1] != 0)]),\n",
    "            len([value for value in subfolder_dist_noise_dic.values() if (value[1] == 0)and (value[0] != 0)]),\n",
    "            len([value for value in subfolder_dist_noise_dic.values() if (value[0] == 0)and (value[1] == 0)]),\n",
    "        ]\n",
    "        frequencies_dict.append(sum(frequencies_dict))\n",
    "        \n",
    "        if not stats_array_freq.any():\n",
    "            stats_array_freq = np.array([frequencies_dict])\n",
    "        else:\n",
    "            stats_array_freq = np.concatenate((stats_array_freq, [frequencies_dict]), axis=0)\n",
    "\n",
    "        statistics_dict = [\n",
    "            min([value[0] for value in subfolder_dist_noise_dic.values() if (value[0] != 0)]),\n",
    "            min([value[1] for value in subfolder_dist_noise_dic.values() if (value[1] != 0)]),\n",
    "            max([value[0] for value in subfolder_dist_noise_dic.values()]),\n",
    "            max([value[1] for value in subfolder_dist_noise_dic.values()]),\n",
    "            round(np.mean([value[0] for value in subfolder_dist_noise_dic.values()]),3),\n",
    "            round(np.mean([value[1] for value in subfolder_dist_noise_dic.values()]),3),\n",
    "            round(np.median([value[0] for value in subfolder_dist_noise_dic.values()]),3),\n",
    "            round(np.median([value[1] for value in subfolder_dist_noise_dic.values()]),3)\n",
    "        ]\n",
    "        if not stats_array_stat.any():\n",
    "            stats_array_stat = np.array([statistics_dict])\n",
    "        else:\n",
    "            stats_array_stat = np.concatenate((stats_array_stat, [statistics_dict]), axis=0)\n",
    "            \n",
    "        noise_reduct_perc = [sum([value[2] for value in subfolder_dist_noise_dic.values()])/len([value[2] for value in subfolder_dist_noise_dic.values()])    \n",
    "        ]\n",
    "        if not stats_noise_reduc.any():\n",
    "            stats_noise_reduc = np.array([noise_reduct_perc])\n",
    "        else:\n",
    "            stats_noise_reduc = np.concatenate((stats_noise_reduc, [noise_reduct_perc]), axis=0)\n",
    "    \n",
    "    df_noise_red = pd.DataFrame(stats_noise_reduc, index = index, columns=columns_noise_reduction)\n",
    "    df_frequencies = pd.DataFrame(stats_array_freq, index = index, columns=columns_frequencies)\n",
    "    df_statistics = pd.DataFrame(stats_array_stat, index = index, columns=columns_statistics)\n",
    "    \n",
    "    return df_frequencies, stats_array_freq, df_statistics, stats_array_stat, df_noise_red, stats_noise_reduc\n",
    "#     return stats_array_freq, stats_array_stat\n",
    "\n"
   ]
  },
  {
   "cell_type": "code",
   "execution_count": 65,
   "metadata": {},
   "outputs": [],
   "source": [
    "file = 'distance_result_dict'\n",
    "with open(file, 'r') as result_dir_file:\n",
    "    results = json.load(result_dir_file)     "
   ]
  },
  {
   "cell_type": "code",
   "execution_count": 161,
   "metadata": {},
   "outputs": [],
   "source": [
    "df_frequencies, stats_array_freq, df_statistics, stats_array_stat, df_noise_red, stats_noise_reduc = summary_statistics_for_noise_tree_comparison(results)\n"
   ]
  },
  {
   "cell_type": "code",
   "execution_count": 162,
   "metadata": {},
   "outputs": [
    {
     "data": {
      "text/html": [
       "<div>\n",
       "<style scoped>\n",
       "    .dataframe tbody tr th:only-of-type {\n",
       "        vertical-align: middle;\n",
       "    }\n",
       "\n",
       "    .dataframe tbody tr th {\n",
       "        vertical-align: top;\n",
       "    }\n",
       "\n",
       "    .dataframe thead tr th {\n",
       "        text-align: left;\n",
       "    }\n",
       "</style>\n",
       "<table border=\"1\" class=\"dataframe\">\n",
       "  <thead>\n",
       "    <tr>\n",
       "      <th></th>\n",
       "      <th>Average Noise Reduction</th>\n",
       "    </tr>\n",
       "  </thead>\n",
       "  <tbody>\n",
       "    <tr>\n",
       "      <th>Asymmetric 0.5</th>\n",
       "      <td>0.145786</td>\n",
       "    </tr>\n",
       "    <tr>\n",
       "      <th>Asymmetric 1.0</th>\n",
       "      <td>0.198558</td>\n",
       "    </tr>\n",
       "    <tr>\n",
       "      <th>Asymmetric 2.0</th>\n",
       "      <td>0.251520</td>\n",
       "    </tr>\n",
       "    <tr>\n",
       "      <th>Symmetric_0.5</th>\n",
       "      <td>0.172018</td>\n",
       "    </tr>\n",
       "    <tr>\n",
       "      <th>Symmetric_1.0</th>\n",
       "      <td>0.220731</td>\n",
       "    </tr>\n",
       "    <tr>\n",
       "      <th>Symmetric_2.0</th>\n",
       "      <td>0.282058</td>\n",
       "    </tr>\n",
       "  </tbody>\n",
       "</table>\n",
       "</div>"
      ],
      "text/plain": [
       "               Average Noise Reduction\n",
       "Asymmetric 0.5                0.145786\n",
       "Asymmetric 1.0                0.198558\n",
       "Asymmetric 2.0                0.251520\n",
       "Symmetric_0.5                 0.172018\n",
       "Symmetric_1.0                 0.220731\n",
       "Symmetric_2.0                 0.282058"
      ]
     },
     "execution_count": 162,
     "metadata": {},
     "output_type": "execute_result"
    }
   ],
   "source": [
    "df_noise_red"
   ]
  },
  {
   "cell_type": "code",
   "execution_count": 142,
   "metadata": {},
   "outputs": [
    {
     "data": {
      "text/html": [
       "<div>\n",
       "<style scoped>\n",
       "    .dataframe tbody tr th:only-of-type {\n",
       "        vertical-align: middle;\n",
       "    }\n",
       "\n",
       "    .dataframe tbody tr th {\n",
       "        vertical-align: top;\n",
       "    }\n",
       "\n",
       "    .dataframe thead tr th {\n",
       "        text-align: left;\n",
       "    }\n",
       "</style>\n",
       "<table border=\"1\" class=\"dataframe\">\n",
       "  <thead>\n",
       "    <tr>\n",
       "      <th></th>\n",
       "      <th>Original &gt; Inferred</th>\n",
       "      <th>Inferred &gt; Original</th>\n",
       "      <th>Equal Distances</th>\n",
       "      <th>Original = Reference Tree</th>\n",
       "      <th>Inferred = Reference Tree</th>\n",
       "      <th>Both = Reference Tree</th>\n",
       "      <th>Total</th>\n",
       "    </tr>\n",
       "  </thead>\n",
       "  <tbody>\n",
       "    <tr>\n",
       "      <th>Asymmetric 0.5</th>\n",
       "      <td>45</td>\n",
       "      <td>48</td>\n",
       "      <td>206</td>\n",
       "      <td>0</td>\n",
       "      <td>0</td>\n",
       "      <td>1</td>\n",
       "      <td>300</td>\n",
       "    </tr>\n",
       "    <tr>\n",
       "      <th>Asymmetric 1.0</th>\n",
       "      <td>60</td>\n",
       "      <td>54</td>\n",
       "      <td>186</td>\n",
       "      <td>0</td>\n",
       "      <td>0</td>\n",
       "      <td>0</td>\n",
       "      <td>300</td>\n",
       "    </tr>\n",
       "    <tr>\n",
       "      <th>Asymmetric 2.0</th>\n",
       "      <td>79</td>\n",
       "      <td>45</td>\n",
       "      <td>176</td>\n",
       "      <td>0</td>\n",
       "      <td>0</td>\n",
       "      <td>0</td>\n",
       "      <td>300</td>\n",
       "    </tr>\n",
       "    <tr>\n",
       "      <th>Symmetric_0.5</th>\n",
       "      <td>44</td>\n",
       "      <td>28</td>\n",
       "      <td>214</td>\n",
       "      <td>4</td>\n",
       "      <td>2</td>\n",
       "      <td>8</td>\n",
       "      <td>300</td>\n",
       "    </tr>\n",
       "    <tr>\n",
       "      <th>Symmetric_1.0</th>\n",
       "      <td>59</td>\n",
       "      <td>36</td>\n",
       "      <td>201</td>\n",
       "      <td>1</td>\n",
       "      <td>1</td>\n",
       "      <td>2</td>\n",
       "      <td>300</td>\n",
       "    </tr>\n",
       "    <tr>\n",
       "      <th>Symmetric_2.0</th>\n",
       "      <td>83</td>\n",
       "      <td>54</td>\n",
       "      <td>162</td>\n",
       "      <td>0</td>\n",
       "      <td>0</td>\n",
       "      <td>1</td>\n",
       "      <td>300</td>\n",
       "    </tr>\n",
       "  </tbody>\n",
       "</table>\n",
       "</div>"
      ],
      "text/plain": [
       "               Original > Inferred Inferred > Original Equal Distances  \\\n",
       "Asymmetric 0.5                  45                  48             206   \n",
       "Asymmetric 1.0                  60                  54             186   \n",
       "Asymmetric 2.0                  79                  45             176   \n",
       "Symmetric_0.5                   44                  28             214   \n",
       "Symmetric_1.0                   59                  36             201   \n",
       "Symmetric_2.0                   83                  54             162   \n",
       "\n",
       "               Original = Reference Tree Inferred = Reference Tree  \\\n",
       "Asymmetric 0.5                         0                         0   \n",
       "Asymmetric 1.0                         0                         0   \n",
       "Asymmetric 2.0                         0                         0   \n",
       "Symmetric_0.5                          4                         2   \n",
       "Symmetric_1.0                          1                         1   \n",
       "Symmetric_2.0                          0                         0   \n",
       "\n",
       "               Both = Reference Tree Total  \n",
       "Asymmetric 0.5                     1   300  \n",
       "Asymmetric 1.0                     0   300  \n",
       "Asymmetric 2.0                     0   300  \n",
       "Symmetric_0.5                      8   300  \n",
       "Symmetric_1.0                      2   300  \n",
       "Symmetric_2.0                      1   300  "
      ]
     },
     "execution_count": 142,
     "metadata": {},
     "output_type": "execute_result"
    }
   ],
   "source": [
    "df_frequencies"
   ]
  },
  {
   "cell_type": "code",
   "execution_count": 143,
   "metadata": {},
   "outputs": [
    {
     "data": {
      "text/html": [
       "<div>\n",
       "<style scoped>\n",
       "    .dataframe tbody tr th:only-of-type {\n",
       "        vertical-align: middle;\n",
       "    }\n",
       "\n",
       "    .dataframe tbody tr th {\n",
       "        vertical-align: top;\n",
       "    }\n",
       "\n",
       "    .dataframe thead tr th {\n",
       "        text-align: left;\n",
       "    }\n",
       "</style>\n",
       "<table border=\"1\" class=\"dataframe\">\n",
       "  <thead>\n",
       "    <tr>\n",
       "      <th></th>\n",
       "      <th colspan=\"2\" halign=\"left\">Minimum</th>\n",
       "      <th colspan=\"2\" halign=\"left\">Maximum</th>\n",
       "      <th colspan=\"2\" halign=\"left\">Mean</th>\n",
       "      <th colspan=\"2\" halign=\"left\">Median</th>\n",
       "    </tr>\n",
       "    <tr>\n",
       "      <th></th>\n",
       "      <th>Original</th>\n",
       "      <th>Noise reduced</th>\n",
       "      <th>Original</th>\n",
       "      <th>Noise reduced</th>\n",
       "      <th>Original</th>\n",
       "      <th>Noise reduced</th>\n",
       "      <th>Original</th>\n",
       "      <th>Noise reduced</th>\n",
       "    </tr>\n",
       "  </thead>\n",
       "  <tbody>\n",
       "    <tr>\n",
       "      <th>Asymmetric 0.5</th>\n",
       "      <td>2.0</td>\n",
       "      <td>2.0</td>\n",
       "      <td>18.0</td>\n",
       "      <td>18.0</td>\n",
       "      <td>7.633</td>\n",
       "      <td>7.620</td>\n",
       "      <td>8.0</td>\n",
       "      <td>8.0</td>\n",
       "    </tr>\n",
       "    <tr>\n",
       "      <th>Asymmetric 1.0</th>\n",
       "      <td>2.0</td>\n",
       "      <td>2.0</td>\n",
       "      <td>18.0</td>\n",
       "      <td>18.0</td>\n",
       "      <td>9.427</td>\n",
       "      <td>9.387</td>\n",
       "      <td>10.0</td>\n",
       "      <td>10.0</td>\n",
       "    </tr>\n",
       "    <tr>\n",
       "      <th>Asymmetric 2.0</th>\n",
       "      <td>4.0</td>\n",
       "      <td>4.0</td>\n",
       "      <td>22.0</td>\n",
       "      <td>20.0</td>\n",
       "      <td>12.340</td>\n",
       "      <td>11.993</td>\n",
       "      <td>12.0</td>\n",
       "      <td>12.0</td>\n",
       "    </tr>\n",
       "    <tr>\n",
       "      <th>Symmetric_0.5</th>\n",
       "      <td>2.0</td>\n",
       "      <td>2.0</td>\n",
       "      <td>10.0</td>\n",
       "      <td>10.0</td>\n",
       "      <td>4.660</td>\n",
       "      <td>4.547</td>\n",
       "      <td>4.0</td>\n",
       "      <td>4.0</td>\n",
       "    </tr>\n",
       "    <tr>\n",
       "      <th>Symmetric_1.0</th>\n",
       "      <td>2.0</td>\n",
       "      <td>2.0</td>\n",
       "      <td>12.0</td>\n",
       "      <td>12.0</td>\n",
       "      <td>6.233</td>\n",
       "      <td>6.053</td>\n",
       "      <td>6.0</td>\n",
       "      <td>6.0</td>\n",
       "    </tr>\n",
       "    <tr>\n",
       "      <th>Symmetric_2.0</th>\n",
       "      <td>2.0</td>\n",
       "      <td>2.0</td>\n",
       "      <td>16.0</td>\n",
       "      <td>16.0</td>\n",
       "      <td>8.913</td>\n",
       "      <td>8.653</td>\n",
       "      <td>8.0</td>\n",
       "      <td>8.0</td>\n",
       "    </tr>\n",
       "  </tbody>\n",
       "</table>\n",
       "</div>"
      ],
      "text/plain": [
       "                Minimum                Maximum                   Mean  \\\n",
       "               Original Noise reduced Original Noise reduced Original   \n",
       "Asymmetric 0.5      2.0           2.0     18.0          18.0    7.633   \n",
       "Asymmetric 1.0      2.0           2.0     18.0          18.0    9.427   \n",
       "Asymmetric 2.0      4.0           4.0     22.0          20.0   12.340   \n",
       "Symmetric_0.5       2.0           2.0     10.0          10.0    4.660   \n",
       "Symmetric_1.0       2.0           2.0     12.0          12.0    6.233   \n",
       "Symmetric_2.0       2.0           2.0     16.0          16.0    8.913   \n",
       "\n",
       "                               Median                \n",
       "               Noise reduced Original Noise reduced  \n",
       "Asymmetric 0.5         7.620      8.0           8.0  \n",
       "Asymmetric 1.0         9.387     10.0          10.0  \n",
       "Asymmetric 2.0        11.993     12.0          12.0  \n",
       "Symmetric_0.5          4.547      4.0           4.0  \n",
       "Symmetric_1.0          6.053      6.0           6.0  \n",
       "Symmetric_2.0          8.653      8.0           8.0  "
      ]
     },
     "execution_count": 143,
     "metadata": {},
     "output_type": "execute_result"
    }
   ],
   "source": [
    "df_statistics"
   ]
  },
  {
   "cell_type": "code",
   "execution_count": 147,
   "metadata": {},
   "outputs": [
    {
     "data": {
      "text/plain": [
       "0.14578599999999994"
      ]
     },
     "execution_count": 147,
     "metadata": {},
     "output_type": "execute_result"
    }
   ],
   "source": [
    "sum([value[2] for value in asymmetric_0_5_dict.values()])/len([value[2] for value in asymmetric_0_5_dict.values()])"
   ]
  },
  {
   "cell_type": "code",
   "execution_count": 105,
   "metadata": {},
   "outputs": [],
   "source": [
    "asymmetric_0_5_dict = results['asymmetric_0.5']\n",
    "asymmetric_1_0_dict = results['asymmetric_1.0']\n",
    "asymmetric_2_0_dict = results['asymmetric_2.0']\n",
    "symmetric_0_5_dict = results['symmetric_0.5']\n",
    "symmetric_1_0_dict = results['symmetric_1.0']\n",
    "symmetric_2_0_dict = results['symmetric_2.0']"
   ]
  },
  {
   "cell_type": "code",
   "execution_count": 106,
   "metadata": {},
   "outputs": [],
   "source": [
    "from matplotlib import pyplot as plt"
   ]
  },
  {
   "cell_type": "code",
   "execution_count": 107,
   "metadata": {},
   "outputs": [
    {
     "data": {
      "text/plain": [
       "(array([ 1.,  0.,  9.,  0., 36.,  0., 87.,  0., 86.,  0.,  0., 48.,  0.,\n",
       "        22.,  0.,  5.,  0.,  2.,  0.,  4.]),\n",
       " array([ 0. ,  0.9,  1.8,  2.7,  3.6,  4.5,  5.4,  6.3,  7.2,  8.1,  9. ,\n",
       "         9.9, 10.8, 11.7, 12.6, 13.5, 14.4, 15.3, 16.2, 17.1, 18. ]),\n",
       " <a list of 20 Patch objects>)"
      ]
     },
     "execution_count": 107,
     "metadata": {},
     "output_type": "execute_result"
    },
    {
     "data": {
      "image/png": "[encoded data removed]",
      "text/plain": [
       "<Figure size 432x288 with 1 Axes>"
      ]
     },
     "metadata": {
      "needs_background": "light"
     },
     "output_type": "display_data"
    }
   ],
   "source": [
    "#redduced\n",
    "plt.hist([value[1] for value in asymmetric_0_5_dict.values()], bins=20, color='green')\n",
    "## original distance:\n",
    "plt.hist([value[0] for value in asymmetric_0_5_dict.values()], bins=20, color= 'blue')"
   ]
  },
  {
   "cell_type": "code",
   "execution_count": 108,
   "metadata": {},
   "outputs": [
    {
     "data": {
      "text/plain": [
       "(array([ 1.,  0., 15.,  0.,  0., 40.,  0., 86.,  0.,  0., 77.,  0., 54.,\n",
       "         0.,  0., 11.,  0., 11.,  0.,  5.]),\n",
       " array([ 2. ,  2.8,  3.6,  4.4,  5.2,  6. ,  6.8,  7.6,  8.4,  9.2, 10. ,\n",
       "        10.8, 11.6, 12.4, 13.2, 14. , 14.8, 15.6, 16.4, 17.2, 18. ]),\n",
       " <a list of 20 Patch objects>)"
      ]
     },
     "execution_count": 108,
     "metadata": {},
     "output_type": "execute_result"
    },
    {
     "data": {
      "image/png": "[encoded data removed]",
      "text/plain": [
       "<Figure size 432x288 with 1 Axes>"
      ]
     },
     "metadata": {
      "needs_background": "light"
     },
     "output_type": "display_data"
    }
   ],
   "source": [
    "#redduced\n",
    "plt.hist([value[1] for value in asymmetric_1_0_dict.values()], bins=20, color='green')\n",
    "## original distance:\n",
    "plt.hist([value[0] for value in asymmetric_1_0_dict.values()], bins=20, color= 'blue')"
   ]
  },
  {
   "cell_type": "code",
   "execution_count": 109,
   "metadata": {},
   "outputs": [
    {
     "data": {
      "text/plain": [
       "(array([ 2.,  0., 16.,  0., 26.,  0., 68.,  0., 72.,  0.,  0., 51.,  0.,\n",
       "        30.,  0., 25.,  0.,  9.,  0.,  1.]),\n",
       " array([ 4. ,  4.9,  5.8,  6.7,  7.6,  8.5,  9.4, 10.3, 11.2, 12.1, 13. ,\n",
       "        13.9, 14.8, 15.7, 16.6, 17.5, 18.4, 19.3, 20.2, 21.1, 22. ]),\n",
       " <a list of 20 Patch objects>)"
      ]
     },
     "execution_count": 109,
     "metadata": {},
     "output_type": "execute_result"
    },
    {
     "data": {
      "image/png": "[encoded data removed]",
      "text/plain": [
       "<Figure size 432x288 with 1 Axes>"
      ]
     },
     "metadata": {
      "needs_background": "light"
     },
     "output_type": "display_data"
    }
   ],
   "source": [
    "#redduced\n",
    "plt.hist([value[1] for value in asymmetric_2_0_dict.values()], bins=20, color='green')\n",
    "## original distance:\n",
    "plt.hist([value[0] for value in asymmetric_2_0_dict.values()], bins=20, color= 'blue')"
   ]
  },
  {
   "cell_type": "code",
   "execution_count": 110,
   "metadata": {},
   "outputs": [
    {
     "data": {
      "text/plain": [
       "(array([ 12.,   0.,   0.,   0.,  57.,   0.,   0.,   0., 103.,   0.,   0.,\n",
       "          0.,  82.,   0.,   0.,   0.,  40.,   0.,   0.,   6.]),\n",
       " array([ 0. ,  0.5,  1. ,  1.5,  2. ,  2.5,  3. ,  3.5,  4. ,  4.5,  5. ,\n",
       "         5.5,  6. ,  6.5,  7. ,  7.5,  8. ,  8.5,  9. ,  9.5, 10. ]),\n",
       " <a list of 20 Patch objects>)"
      ]
     },
     "execution_count": 110,
     "metadata": {},
     "output_type": "execute_result"
    },
    {
     "data": {
      "image/png": "[encoded data removed]",
      "text/plain": [
       "<Figure size 432x288 with 1 Axes>"
      ]
     },
     "metadata": {
      "needs_background": "light"
     },
     "output_type": "display_data"
    }
   ],
   "source": [
    "#redduced\n",
    "plt.hist([value[1] for value in symmetric_0_5_dict.values()], bins=20, color='green')\n",
    "## original distance:\n",
    "plt.hist([value[0] for value in symmetric_0_5_dict.values()], bins=20, color= 'blue')"
   ]
  },
  {
   "cell_type": "code",
   "execution_count": 111,
   "metadata": {},
   "outputs": [
    {
     "data": {
      "text/plain": [
       "(array([  3.,   0.,   0.,  17.,   0.,   0.,  65.,   0.,   0.,   0., 107.,\n",
       "          0.,   0.,  75.,   0.,   0.,  31.,   0.,   0.,   2.]),\n",
       " array([ 0. ,  0.6,  1.2,  1.8,  2.4,  3. ,  3.6,  4.2,  4.8,  5.4,  6. ,\n",
       "         6.6,  7.2,  7.8,  8.4,  9. ,  9.6, 10.2, 10.8, 11.4, 12. ]),\n",
       " <a list of 20 Patch objects>)"
      ]
     },
     "execution_count": 111,
     "metadata": {},
     "output_type": "execute_result"
    },
    {
     "data": {
      "image/png": "[encoded data removed]",
      "text/plain": [
       "<Figure size 432x288 with 1 Axes>"
      ]
     },
     "metadata": {
      "needs_background": "light"
     },
     "output_type": "display_data"
    }
   ],
   "source": [
    "#redduced\n",
    "plt.hist([value[1] for value in symmetric_1_0_dict.values()], bins=20, color='green')\n",
    "## original distance:\n",
    "plt.hist([value[0] for value in symmetric_1_0_dict.values()], bins=20, color= 'blue')"
   ]
  },
  {
   "cell_type": "code",
   "execution_count": 112,
   "metadata": {},
   "outputs": [
    {
     "data": {
      "text/plain": [
       "(array([ 1.,  0.,  4.,  0.,  0., 16.,  0., 46.,  0.,  0., 87.,  0., 82.,\n",
       "         0.,  0., 47.,  0., 13.,  0.,  4.]),\n",
       " array([ 0. ,  0.8,  1.6,  2.4,  3.2,  4. ,  4.8,  5.6,  6.4,  7.2,  8. ,\n",
       "         8.8,  9.6, 10.4, 11.2, 12. , 12.8, 13.6, 14.4, 15.2, 16. ]),\n",
       " <a list of 20 Patch objects>)"
      ]
     },
     "execution_count": 112,
     "metadata": {},
     "output_type": "execute_result"
    },
    {
     "data": {
      "image/png": "[encoded data removed]",
      "text/plain": [
       "<Figure size 432x288 with 1 Axes>"
      ]
     },
     "metadata": {
      "needs_background": "light"
     },
     "output_type": "display_data"
    }
   ],
   "source": [
    "#redduced\n",
    "plt.hist([value[1] for value in symmetric_2_0_dict.values()], bins=20, color='green')\n",
    "## original distance:\n",
    "plt.hist([value[0] for value in symmetric_2_0_dict.values()], bins=20, color= 'blue')"
   ]
  },
  {
   "cell_type": "code",
   "execution_count": 113,
   "metadata": {},
   "outputs": [
    {
     "data": {
      "text/plain": [
       "(array([ 1.,  0.,  7.,  0., 41.,  0., 82.,  0., 84.,  0.,  0., 56.,  0.,\n",
       "        19.,  0.,  5.,  0.,  2.,  0.,  3.]),\n",
       " array([ 0. ,  0.9,  1.8,  2.7,  3.6,  4.5,  5.4,  6.3,  7.2,  8.1,  9. ,\n",
       "         9.9, 10.8, 11.7, 12.6, 13.5, 14.4, 15.3, 16.2, 17.1, 18. ]),\n",
       " <a list of 20 Patch objects>)"
      ]
     },
     "execution_count": 113,
     "metadata": {},
     "output_type": "execute_result"
    },
    {
     "data": {
      "image/png": "[encoded data removed]",
      "text/plain": [
       "<Figure size 432x288 with 1 Axes>"
      ]
     },
     "metadata": {
      "needs_background": "light"
     },
     "output_type": "display_data"
    }
   ],
   "source": [
    "plt.hist([value[0] for value in asymmetric_0_5_dict.values()], bins=20)\n",
    "plt.hist([value[1] for value in asymmetric_0_5_dict.values()], bins=20)"
   ]
  },
  {
   "cell_type": "code",
   "execution_count": 126,
   "metadata": {},
   "outputs": [],
   "source": [
    "original_distance_noise_level_tuple_list = [(value[2], value[0]) for value in asymmetric_0_5_dict.values()]"
   ]
  },
  {
   "cell_type": "code",
   "execution_count": 57,
   "metadata": {},
   "outputs": [
    {
     "data": {
      "text/plain": [
       "[(0.17, 4), (0.18, 6), (0.18, 6), (0.16, 4), (0.16, 6)]"
      ]
     },
     "execution_count": 57,
     "metadata": {},
     "output_type": "execute_result"
    }
   ],
   "source": [
    "reduced_distance_noise_level_tuple_list[:5]"
   ]
  },
  {
   "cell_type": "code",
   "execution_count": 133,
   "metadata": {},
   "outputs": [],
   "source": [
    "original_distance_list = [value[0] for value in asymmetric_0_5_dict.values()]"
   ]
  },
  {
   "cell_type": "code",
   "execution_count": 131,
   "metadata": {},
   "outputs": [],
   "source": [
    "noise_level_list = [value[2] for value in asymmetric_0_5_dict.values()]"
   ]
  },
  {
   "cell_type": "code",
   "execution_count": 134,
   "metadata": {},
   "outputs": [],
   "source": [
    "reduced_distance_list = [value[1] for value in asymmetric_0_5_dict.values()]"
   ]
  },
  {
   "cell_type": "code",
   "execution_count": 136,
   "metadata": {},
   "outputs": [
    {
     "name": "stderr",
     "output_type": "stream",
     "text": [
      "No handles with labels found to put in legend.\n"
     ]
    },
    {
     "data": {
      "image/png": "[encoded data removed]",
      "text/plain": [
       "<Figure size 432x288 with 1 Axes>"
      ]
     },
     "metadata": {
      "needs_background": "light"
     },
     "output_type": "display_data"
    }
   ],
   "source": [
    "# plot_idx = np.random.permutation(data.shape[0])\n",
    "# colors = pd.factorize(classes)\n",
    "fig, ax = plt.subplots()\n",
    "ax.scatter(noise_level_list, \n",
    "           original_distance_list,\n",
    "           alpha=0.7\n",
    "           )\n",
    "ax.scatter(noise_level_list, reduced_distance_list, alpha=0.3)\n",
    "plt.legend()\n",
    "plt.show()"
   ]
  }
 ],
 "metadata": {
  "kernelspec": {
   "display_name": "Python 3",
   "language": "python",
   "name": "python3"
  },
  "language_info": {
   "codemirror_mode": {
    "name": "ipython",
    "version": 3
   },
   "file_extension": ".py",
   "mimetype": "text/x-python",
   "name": "python",
   "nbconvert_exporter": "python",
   "pygments_lexer": "ipython3",
   "version": "3.6.6"
  }
 },
 "nbformat": 4,
 "nbformat_minor": 2
}

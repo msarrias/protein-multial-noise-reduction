{
 "cells": [
  {
   "cell_type": "code",
   "execution_count": 3,
   "metadata": {},
   "outputs": [],
   "source": [
    "import glob\n",
    "import os\n",
    "import json\n",
    "from Bio.Seq import Seq\n",
    "from Bio import SeqIO, AlignIO, Align, SeqRecord\n",
    "from collections import Counter\n",
    "import dendropy\n",
    "from dendropy.calculate import treecompare\n",
    "from Bio import Phylo\n",
    "import subprocess\n",
    "from subprocess import PIPE, Popen\n"
   ]
  },
  {
   "cell_type": "code",
   "execution_count": 4,
   "metadata": {},
   "outputs": [],
   "source": [
    "def computing_and_writing_alignment_tree(filename_out, tree_outfile):\n",
    "    args= \"cat \" + filename_out + \" | fastprot | fnj -O newick -o \" + tree_outfile\n",
    "    child_noise_reduced =subprocess.Popen(args, shell=True)\n",
    "    child_noise_reduced.wait()"
   ]
  },
  {
   "cell_type": "code",
   "execution_count": 8,
   "metadata": {},
   "outputs": [],
   "source": [
    "original_dir = '/Users/user/Desktop/MSM/03-Applied_Bioinformatics/Labs/03_Project/protein_multial_noise_reduction/data/test_data'\n",
    "reduced_dir = '/Users/user/Desktop/MSM/03-Applied_Bioinformatics/Labs/03_Project/protein_multial_noise_reduction/data/reduced_test_data'\n",
    "result_dir =  '/Users/user/Desktop/MSM/03-Applied_Bioinformatics/Labs/03_Project/protein_multial_noise_reduction/results'\n",
    "directories = []\n",
    "tns = dendropy.TaxonNamespace()\n",
    "\n",
    "for folder in glob.glob(original_dir +'/*'):\n",
    "    sub_folder_name = folder.split('/')[-1]\n",
    "    directories.append(sub_folder_name)\n",
    "    \n",
    "for directory in directories:  \n",
    "    original_dir_path = os.path.join(original_dir, directory)\n",
    "    new_folder_path = os.path.join(reduced_dir, directory)\n",
    "\n",
    "    for alignment_path in glob.glob(original_dir_path + '/*.msl'):\n",
    "        reduced_alignment_name = alignment_path.split('/')[-1]\n",
    "        reduced_filename_out = os.path.join(new_folder_path, reduced_alignment_name)\n",
    "        # computing and writing noise reduced alignment trees\n",
    "        tree_outfile_reduced = reduced_filename_out[:-3] + 'tree'\n",
    "        computing_and_writing_alignment_tree(reduced_filename_out, tree_outfile_reduced)\n",
    "\n",
    "        # computing and writing original alignment trees\n",
    "        alignment_name = alignment_path.split('/')[-1]\n",
    "        filename_out = os.path.join(original_dir_path, alignment_name)\n",
    "        tree_outfile = filename_out[:-3] + 'tree'\n",
    "        computing_and_writing_alignment_tree(alignment_path, tree_outfile)\n",
    "    \n",
    "    for tree_path in glob.glob(original_dir_path + '/*.tree'):\n",
    "        if os.stat(tree_path).st_size == 0:\n",
    "            sys.exit(f'{tree_path}'+ '>> ERROR: empty file.')\n"
   ]
  }
 ],
 "metadata": {
  "kernelspec": {
   "display_name": "Python 3",
   "language": "python",
   "name": "python3"
  },
  "language_info": {
   "codemirror_mode": {
    "name": "ipython",
    "version": 3
   },
   "file_extension": ".py",
   "mimetype": "text/x-python",
   "name": "python",
   "nbconvert_exporter": "python",
   "pygments_lexer": "ipython3",
   "version": "3.6.6"
  }
 },
 "nbformat": 4,
 "nbformat_minor": 2
}

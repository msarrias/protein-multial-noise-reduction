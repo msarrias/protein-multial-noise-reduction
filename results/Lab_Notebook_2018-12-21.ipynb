{
 "cells": [
  {
   "cell_type": "code",
   "execution_count": 3,
   "metadata": {},
   "outputs": [
    {
     "data": {
      "text/html": [
       "<script>\n",
       "code_show=true; \n",
       "function code_toggle() {\n",
       "    if (code_show){\n",
       "        $('div.input').hide();\n",
       "    } \n",
       "    else {\n",
       "        $('div.input').show();\n",
       "    }\n",
       "    code_show = !code_show\n",
       "}\n",
       "$( document ).ready(code_toggle);\n",
       "</script>\n",
       "<form action=\"javascript:code_toggle()\"><input type=\"submit\" value=\"Click here to toggle on/off the raw code.\"></form>"
      ],
      "text/plain": [
       "<IPython.core.display.HTML object>"
      ]
     },
     "execution_count": 3,
     "metadata": {},
     "output_type": "execute_result"
    }
   ],
   "source": [
    "from IPython.display import HTML\n",
    "HTML('''<script>\n",
    "code_show=true; \n",
    "function code_toggle() {\n",
    "    if (code_show){\n",
    "        $('div.input').hide();\n",
    "    } \n",
    "    else {\n",
    "        $('div.input').show();\n",
    "    }\n",
    "    code_show = !code_show\n",
    "}\n",
    "$( document ).ready(code_toggle);\n",
    "</script>\n",
    "<form action=\"javascript:code_toggle()\"><input type=\"submit\" value=\"Click here to toggle on/off the raw code.\"></form>''')"
   ]
  },
  {
   "cell_type": "markdown",
   "metadata": {},
   "source": [
    "## Lab Notebook 1"
   ]
  },
  {
   "cell_type": "markdown",
   "metadata": {},
   "source": [
    "### Date: 2018-12-21"
   ]
  },
  {
   "cell_type": "markdown",
   "metadata": {},
   "source": [
    "### *Project Setup*"
   ]
  },
  {
   "cell_type": "markdown",
   "metadata": {},
   "source": [
    "### **1.** Define project Layout:\n",
    "\n",
    "Top level organization: protein_multial_noise_reduction<br>\n",
    "\n",
    "./doc/ <br>\n",
    "./data/<br>\n",
    "./src/<br>\n",
    "./bin/<br>\n",
    "./results/<br>\n",
    "\n",
    "**NOTE: What will contain each folder?**\n"
   ]
  },
  {
   "cell_type": "markdown",
   "metadata": {},
   "source": [
    "### **2.** Create a github repository for version control:"
   ]
  },
  {
   "cell_type": "markdown",
   "metadata": {},
   "source": [
    "__[https://github.com/msarrias/protein_multial_noise_reduction](https://github.com/msarrias/protein_multial_noise_reduction)__\n"
   ]
  },
  {
   "cell_type": "markdown",
   "metadata": {},
   "source": [
    "### **3.** Download fixed test data sets:"
   ]
  },
  {
   "cell_type": "markdown",
   "metadata": {},
   "source": [
    "The test datasets where downloaded from __[Canvas](https://kth.instructure.com/courses/6158/files/1383925/download?wrap=1)__ and unpacked using the following command line:"
   ]
  },
  {
   "cell_type": "raw",
   "metadata": {},
   "source": [
    "macbook-pro:data user$ tar -zxf testdata.tar.gz"
   ]
  },
  {
   "cell_type": "raw",
   "metadata": {},
   "source": [
    "macbook-pro:data user$ ls\n",
    "appbio11\ttestdata.tar.gz"
   ]
  },
  {
   "cell_type": "raw",
   "metadata": {},
   "source": [
    "macbook-pro:data user$ rm testdata.tar.gz "
   ]
  },
  {
   "cell_type": "markdown",
   "metadata": {},
   "source": [
    "\n",
    "\n",
    "./data/ <br>\n",
    "$\\qquad$./data/appbio11/<br>\n",
    "\n",
    "\n",
    "As the whole project will be performed only with the data sets contained in appbio11, we wont follow a chronological organization for the data directory. (adviced on the __[Course centerpice](https://journals.plos.org/ploscompbiol/article?id=10.1371/journal.pcbi.1000424#s8)__)\n"
   ]
  },
  {
   "cell_type": "markdown",
   "metadata": {},
   "source": [
    "**appbio11:** containes six subdirectories:\n",
    "\n",
    "./appbio11/ <br>\n",
    "$\\qquad$./appbio11/asymmetric_0.5/<br>\n",
    "$\\qquad$./appbio11/asymmetric_1.0/<br>\n",
    "$\\qquad$./appbio11/asymmetric_2.0/<br>\n",
    "$\\qquad$./appbio11/symmetric_0.5/<br>\n",
    "$\\qquad$./appbio11/symmetric_1.0/<br>\n",
    "$\\qquad$./appbio11/symmetric_2.0/<br>\n"
   ]
  },
  {
   "cell_type": "markdown",
   "metadata": {},
   "source": []
  },
  {
   "cell_type": "code",
   "execution_count": null,
   "metadata": {},
   "outputs": [],
   "source": []
  }
 ],
 "metadata": {
  "kernelspec": {
   "display_name": "Python 3",
   "language": "python",
   "name": "python3"
  },
  "language_info": {
   "codemirror_mode": {
    "name": "ipython",
    "version": 3
   },
   "file_extension": ".py",
   "mimetype": "text/x-python",
   "name": "python",
   "nbconvert_exporter": "python",
   "pygments_lexer": "ipython3",
   "version": "3.6.6"
  }
 },
 "nbformat": 4,
 "nbformat_minor": 2
}

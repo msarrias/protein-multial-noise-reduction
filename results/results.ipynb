{
 "cells": [
  {
   "cell_type": "code",
   "execution_count": 69,
   "metadata": {},
   "outputs": [],
   "source": [
    "import json"
   ]
  },
  {
   "cell_type": "code",
   "execution_count": 70,
   "metadata": {},
   "outputs": [],
   "source": [
    "file = 'distance_result_dict'\n",
    "with open(file, 'r') as result_dir_file:\n",
    "    results = json.load(result_dir_file)\n",
    "        \n"
   ]
  },
  {
   "cell_type": "code",
   "execution_count": 163,
   "metadata": {},
   "outputs": [
    {
     "data": {
      "text/plain": [
       "dict_keys(['asymmetric_0.5', 'asymmetric_1.0', 'asymmetric_2.0', 'symmetric_0.5', 'symmetric_1.0', 'symmetric_2.0'])"
      ]
     },
     "execution_count": 163,
     "metadata": {},
     "output_type": "execute_result"
    }
   ],
   "source": [
    "results.keys()"
   ]
  },
  {
   "cell_type": "code",
   "execution_count": null,
   "metadata": {},
   "outputs": [],
   "source": [
    "def summary_distance_properties(distance_result_dict):\n",
    "    "
   ]
  },
  {
   "cell_type": "code",
   "execution_count": 226,
   "metadata": {},
   "outputs": [],
   "source": [
    "mean_noise_reduced = round(sum([value[1] for value in symmetric_0_5_dict.values()])/len(([value[1] for value in symmetric_0_5_dict.values()])),3)\n",
    "mean_original = round(sum([value[0] for value in symmetric_0_5_dict.values()])/len(([value[0] for value in symmetric_0_5_dict.values()])),3)\n",
    "\n",
    "header = ['Minimum', 'Maximum', 'Mean', 'Median']\n",
    "frequencies = ['Original > Inferred',\n",
    "               'Inferred > Original',\n",
    "               'Equal Distances',\n",
    "               'Original = Reference Tree',\n",
    "               'Inferred = Reference Tree',\n",
    "               'Both = Reference Tree'\n",
    "               'Total']\n",
    "\n",
    "asymmetric_0_5_dict_freq = [ \n",
    "    len([value for value in symmetric_0_5_dict.values() if (value[0] > value[1]) and (value[1] != 0)]),\n",
    "    len([value for value in symmetric_0_5_dict.values() if (value[0] < value[1]) and (value[0] != 0)]),\n",
    "    len([value for value in symmetric_0_5_dict.values() if (value[0] == value[1]) and (value[1] != 0)]),\n",
    "    len([value for value in symmetric_0_5_dict.values() if (value[0] == 0)and (value[1] != 0)]),\n",
    "    len([value for value in symmetric_0_5_dict.values() if (value[1] == 0)and (value[0] != 0)]),\n",
    "    len([value for value in symmetric_0_5_dict.values() if (value[0] == 0)and (value[1] == 0)]),\n",
    "]\n",
    "asymmetric_0_5_dict_freq.append(sum(asymmetric_0_5_dict_freq))\n",
    "\n",
    "asymmetric_0_5_dict_summ = [\n",
    "    min([value[0] for value in symmetric_0_5_dict.values() if (value[0] != 0)]),\n",
    "    min([value[1] for value in symmetric_0_5_dict.values() if (value[1] != 0)]),\n",
    "    max([value[0] for value in symmetric_0_5_dict.values()]),\n",
    "    max([value[1] for value in symmetric_0_5_dict.values()]),\n",
    "    mean_original,\n",
    "    mean_noise_reduced\n",
    "]"
   ]
  },
  {
   "cell_type": "code",
   "execution_count": 227,
   "metadata": {},
   "outputs": [
    {
     "data": {
      "text/plain": [
       "[44, 28, 214, 4, 2, 8, 300]"
      ]
     },
     "execution_count": 227,
     "metadata": {},
     "output_type": "execute_result"
    }
   ],
   "source": [
    "asymmetric_0_5_dict_freq"
   ]
  },
  {
   "cell_type": "code",
   "execution_count": 228,
   "metadata": {},
   "outputs": [
    {
     "data": {
      "text/plain": [
       "[2, 2, 10, 10, 4.66, 4.547]"
      ]
     },
     "execution_count": 228,
     "metadata": {},
     "output_type": "execute_result"
    }
   ],
   "source": [
    "asymmetric_0_5_dict_summ"
   ]
  },
  {
   "cell_type": "code",
   "execution_count": 73,
   "metadata": {},
   "outputs": [],
   "source": [
    "asymmetric_0_5_dict = results['asymmetric_0.5']\n",
    "asymmetric_1_0_dict = results['asymmetric_1.0']\n",
    "asymmetric_2_0_dict = results['asymmetric_2.0']\n",
    "symmetric_0_5_dict = results['symmetric_0.5']\n",
    "symmetric_1_0_dict = results['symmetric_1.0']\n",
    "symmetric_2_0_dict = results['symmetric_2.0']"
   ]
  },
  {
   "cell_type": "code",
   "execution_count": 30,
   "metadata": {},
   "outputs": [],
   "source": [
    "from matplotlib import pyplot as plt"
   ]
  },
  {
   "cell_type": "code",
   "execution_count": 80,
   "metadata": {},
   "outputs": [
    {
     "data": {
      "text/plain": [
       "(array([ 1.,  0.,  9.,  0., 36.,  0., 87.,  0., 86.,  0.,  0., 48.,  0.,\n",
       "        22.,  0.,  5.,  0.,  2.,  0.,  4.]),\n",
       " array([ 0. ,  0.9,  1.8,  2.7,  3.6,  4.5,  5.4,  6.3,  7.2,  8.1,  9. ,\n",
       "         9.9, 10.8, 11.7, 12.6, 13.5, 14.4, 15.3, 16.2, 17.1, 18. ]),\n",
       " <a list of 20 Patch objects>)"
      ]
     },
     "execution_count": 80,
     "metadata": {},
     "output_type": "execute_result"
    },
    {
     "data": {
      "image/png": "[encoded data removed]",
      "text/plain": [
       "<Figure size 432x288 with 1 Axes>"
      ]
     },
     "metadata": {
      "needs_background": "light"
     },
     "output_type": "display_data"
    }
   ],
   "source": [
    "#redduced\n",
    "plt.hist([value[1] for value in asymmetric_0_5_dict.values()], bins=20, color='green')\n",
    "## original distance:\n",
    "plt.hist([value[0] for value in asymmetric_0_5_dict.values()], bins=20, color= 'blue')"
   ]
  },
  {
   "cell_type": "code",
   "execution_count": 81,
   "metadata": {},
   "outputs": [
    {
     "data": {
      "text/plain": [
       "(array([ 1.,  0., 15.,  0.,  0., 40.,  0., 86.,  0.,  0., 77.,  0., 54.,\n",
       "         0.,  0., 11.,  0., 11.,  0.,  5.]),\n",
       " array([ 2. ,  2.8,  3.6,  4.4,  5.2,  6. ,  6.8,  7.6,  8.4,  9.2, 10. ,\n",
       "        10.8, 11.6, 12.4, 13.2, 14. , 14.8, 15.6, 16.4, 17.2, 18. ]),\n",
       " <a list of 20 Patch objects>)"
      ]
     },
     "execution_count": 81,
     "metadata": {},
     "output_type": "execute_result"
    },
    {
     "data": {
      "image/png": "[encoded data removed]",
      "text/plain": [
       "<Figure size 432x288 with 1 Axes>"
      ]
     },
     "metadata": {
      "needs_background": "light"
     },
     "output_type": "display_data"
    }
   ],
   "source": [
    "#redduced\n",
    "plt.hist([value[1] for value in asymmetric_1_0_dict.values()], bins=20, color='green')\n",
    "## original distance:\n",
    "plt.hist([value[0] for value in asymmetric_1_0_dict.values()], bins=20, color= 'blue')"
   ]
  },
  {
   "cell_type": "code",
   "execution_count": 82,
   "metadata": {},
   "outputs": [
    {
     "data": {
      "text/plain": [
       "(array([ 2.,  0., 16.,  0., 26.,  0., 68.,  0., 72.,  0.,  0., 51.,  0.,\n",
       "        30.,  0., 25.,  0.,  9.,  0.,  1.]),\n",
       " array([ 4. ,  4.9,  5.8,  6.7,  7.6,  8.5,  9.4, 10.3, 11.2, 12.1, 13. ,\n",
       "        13.9, 14.8, 15.7, 16.6, 17.5, 18.4, 19.3, 20.2, 21.1, 22. ]),\n",
       " <a list of 20 Patch objects>)"
      ]
     },
     "execution_count": 82,
     "metadata": {},
     "output_type": "execute_result"
    },
    {
     "data": {
      "image/png": "[encoded data removed]",
      "text/plain": [
       "<Figure size 432x288 with 1 Axes>"
      ]
     },
     "metadata": {
      "needs_background": "light"
     },
     "output_type": "display_data"
    }
   ],
   "source": [
    "#redduced\n",
    "plt.hist([value[1] for value in asymmetric_2_0_dict.values()], bins=20, color='green')\n",
    "## original distance:\n",
    "plt.hist([value[0] for value in asymmetric_2_0_dict.values()], bins=20, color= 'blue')"
   ]
  },
  {
   "cell_type": "code",
   "execution_count": 83,
   "metadata": {},
   "outputs": [
    {
     "data": {
      "text/plain": [
       "(array([ 12.,   0.,   0.,   0.,  57.,   0.,   0.,   0., 103.,   0.,   0.,\n",
       "          0.,  82.,   0.,   0.,   0.,  40.,   0.,   0.,   6.]),\n",
       " array([ 0. ,  0.5,  1. ,  1.5,  2. ,  2.5,  3. ,  3.5,  4. ,  4.5,  5. ,\n",
       "         5.5,  6. ,  6.5,  7. ,  7.5,  8. ,  8.5,  9. ,  9.5, 10. ]),\n",
       " <a list of 20 Patch objects>)"
      ]
     },
     "execution_count": 83,
     "metadata": {},
     "output_type": "execute_result"
    },
    {
     "data": {
      "image/png": "[encoded data removed]",
      "text/plain": [
       "<Figure size 432x288 with 1 Axes>"
      ]
     },
     "metadata": {
      "needs_background": "light"
     },
     "output_type": "display_data"
    }
   ],
   "source": [
    "#redduced\n",
    "plt.hist([value[1] for value in symmetric_0_5_dict.values()], bins=20, color='green')\n",
    "## original distance:\n",
    "plt.hist([value[0] for value in symmetric_0_5_dict.values()], bins=20, color= 'blue')"
   ]
  },
  {
   "cell_type": "code",
   "execution_count": 84,
   "metadata": {},
   "outputs": [
    {
     "data": {
      "text/plain": [
       "(array([  3.,   0.,   0.,  17.,   0.,   0.,  65.,   0.,   0.,   0., 107.,\n",
       "          0.,   0.,  75.,   0.,   0.,  31.,   0.,   0.,   2.]),\n",
       " array([ 0. ,  0.6,  1.2,  1.8,  2.4,  3. ,  3.6,  4.2,  4.8,  5.4,  6. ,\n",
       "         6.6,  7.2,  7.8,  8.4,  9. ,  9.6, 10.2, 10.8, 11.4, 12. ]),\n",
       " <a list of 20 Patch objects>)"
      ]
     },
     "execution_count": 84,
     "metadata": {},
     "output_type": "execute_result"
    },
    {
     "data": {
      "image/png": "[encoded data removed]",
      "text/plain": [
       "<Figure size 432x288 with 1 Axes>"
      ]
     },
     "metadata": {
      "needs_background": "light"
     },
     "output_type": "display_data"
    }
   ],
   "source": [
    "#redduced\n",
    "plt.hist([value[1] for value in symmetric_1_0_dict.values()], bins=20, color='green')\n",
    "## original distance:\n",
    "plt.hist([value[0] for value in symmetric_1_0_dict.values()], bins=20, color= 'blue')"
   ]
  },
  {
   "cell_type": "code",
   "execution_count": 85,
   "metadata": {},
   "outputs": [
    {
     "data": {
      "text/plain": [
       "(array([ 1.,  0.,  4.,  0.,  0., 16.,  0., 46.,  0.,  0., 87.,  0., 82.,\n",
       "         0.,  0., 47.,  0., 13.,  0.,  4.]),\n",
       " array([ 0. ,  0.8,  1.6,  2.4,  3.2,  4. ,  4.8,  5.6,  6.4,  7.2,  8. ,\n",
       "         8.8,  9.6, 10.4, 11.2, 12. , 12.8, 13.6, 14.4, 15.2, 16. ]),\n",
       " <a list of 20 Patch objects>)"
      ]
     },
     "execution_count": 85,
     "metadata": {},
     "output_type": "execute_result"
    },
    {
     "data": {
      "image/png": "[encoded data removed]",
      "text/plain": [
       "<Figure size 432x288 with 1 Axes>"
      ]
     },
     "metadata": {
      "needs_background": "light"
     },
     "output_type": "display_data"
    }
   ],
   "source": [
    "#redduced\n",
    "plt.hist([value[1] for value in symmetric_2_0_dict.values()], bins=20, color='green')\n",
    "## original distance:\n",
    "plt.hist([value[0] for value in symmetric_2_0_dict.values()], bins=20, color= 'blue')"
   ]
  },
  {
   "cell_type": "code",
   "execution_count": null,
   "metadata": {},
   "outputs": [],
   "source": [
    "plt.hist([value[0] for value in asymmetric_0_5_dict.values()], bins=20)\n",
    "plt.hist([value[1] for value in asymmetric_0_5_dict.values()], bins=20)"
   ]
  },
  {
   "cell_type": "code",
   "execution_count": 41,
   "metadata": {},
   "outputs": [],
   "source": [
    "different_distance_list = [value for value in test_data_dict.values() if value[0] != value[1]]"
   ]
  },
  {
   "cell_type": "code",
   "execution_count": 49,
   "metadata": {},
   "outputs": [
    {
     "data": {
      "text/plain": [
       "48"
      ]
     },
     "execution_count": 49,
     "metadata": {},
     "output_type": "execute_result"
    }
   ],
   "source": [
    "len([value for value in test_data_dict.values() if value[0] < value[1]])"
   ]
  },
  {
   "cell_type": "code",
   "execution_count": 48,
   "metadata": {},
   "outputs": [
    {
     "data": {
      "text/plain": [
       "45"
      ]
     },
     "execution_count": 48,
     "metadata": {},
     "output_type": "execute_result"
    }
   ],
   "source": [
    "len([value for value in test_data_dict.values() if value[0] > value[1]])"
   ]
  },
  {
   "cell_type": "code",
   "execution_count": 47,
   "metadata": {
    "scrolled": true
   },
   "outputs": [
    {
     "data": {
      "text/plain": [
       "207"
      ]
     },
     "execution_count": 47,
     "metadata": {},
     "output_type": "execute_result"
    }
   ],
   "source": [
    "len([value for value in test_data_dict.values() if value[0] == value[1]])"
   ]
  },
  {
   "cell_type": "code",
   "execution_count": 42,
   "metadata": {},
   "outputs": [
    {
     "data": {
      "text/plain": [
       "93"
      ]
     },
     "execution_count": 42,
     "metadata": {},
     "output_type": "execute_result"
    }
   ],
   "source": [
    "len(different_distance_list)"
   ]
  },
  {
   "cell_type": "code",
   "execution_count": 140,
   "metadata": {},
   "outputs": [],
   "source": [
    "diff__distance_list = [value[0] for value in different_distance_list]"
   ]
  },
  {
   "cell_type": "code",
   "execution_count": 46,
   "metadata": {},
   "outputs": [
    {
     "data": {
      "text/plain": [
       "(array([ 2., 13., 22.,  0., 24., 23.,  0.,  5.,  3.,  1.]),\n",
       " array([ 2. ,  3.4,  4.8,  6.2,  7.6,  9. , 10.4, 11.8, 13.2, 14.6, 16. ]),\n",
       " <a list of 10 Patch objects>)"
      ]
     },
     "execution_count": 46,
     "metadata": {},
     "output_type": "execute_result"
    },
    {
     "data": {
      "image/png": "[encoded data removed]",
      "text/plain": [
       "<Figure size 432x288 with 1 Axes>"
      ]
     },
     "metadata": {
      "needs_background": "light"
     },
     "output_type": "display_data"
    }
   ],
   "source": [
    "plt.hist(diff_reduced_distance_list)"
   ]
  },
  {
   "cell_type": "code",
   "execution_count": 54,
   "metadata": {},
   "outputs": [],
   "source": [
    "original_distance_noise_level_tuple_list = [(value[2], value[0]) for value in test_data_dict.values()]"
   ]
  },
  {
   "cell_type": "code",
   "execution_count": 57,
   "metadata": {},
   "outputs": [
    {
     "data": {
      "text/plain": [
       "[(0.17, 4), (0.18, 6), (0.18, 6), (0.16, 4), (0.16, 6)]"
      ]
     },
     "execution_count": 57,
     "metadata": {},
     "output_type": "execute_result"
    }
   ],
   "source": [
    "reduced_distance_noise_level_tuple_list[:5]"
   ]
  },
  {
   "cell_type": "code",
   "execution_count": 65,
   "metadata": {},
   "outputs": [],
   "source": [
    "noise_level_list = [value[2] for value in test_data_dict.values()]"
   ]
  },
  {
   "cell_type": "code",
   "execution_count": 55,
   "metadata": {},
   "outputs": [],
   "source": [
    "reduced_distance_noise_level_tuple_list = [(value[2], value[1]) for value in test_data_dict.values()]"
   ]
  },
  {
   "cell_type": "code",
   "execution_count": 68,
   "metadata": {},
   "outputs": [
    {
     "name": "stderr",
     "output_type": "stream",
     "text": [
      "No handles with labels found to put in legend.\n"
     ]
    },
    {
     "data": {
      "image/png": "[encoded data removed]",
      "text/plain": [
       "<Figure size 432x288 with 1 Axes>"
      ]
     },
     "metadata": {
      "needs_background": "light"
     },
     "output_type": "display_data"
    }
   ],
   "source": [
    "# plot_idx = np.random.permutation(data.shape[0])\n",
    "# colors = pd.factorize(classes)\n",
    "fig, ax = plt.subplots()\n",
    "ax.scatter(noise_level_list, \n",
    "           original_distance_list,\n",
    "           alpha=0.7\n",
    "           )\n",
    "ax.scatter(noise_level_list, reduced_noise_distance_list, alpha=0.3)\n",
    "plt.legend()\n",
    "plt.show()"
   ]
  },
  {
   "cell_type": "code",
   "execution_count": 50,
   "metadata": {},
   "outputs": [
    {
     "data": {
      "text/plain": [
       "7.870967741935484"
      ]
     },
     "execution_count": 50,
     "metadata": {},
     "output_type": "execute_result"
    }
   ],
   "source": [
    "np.mean(diff_original_distance_list)"
   ]
  },
  {
   "cell_type": "code",
   "execution_count": 51,
   "metadata": {},
   "outputs": [
    {
     "data": {
      "text/plain": [
       "7.827956989247312"
      ]
     },
     "execution_count": 51,
     "metadata": {},
     "output_type": "execute_result"
    }
   ],
   "source": [
    "np.mean(diff_reduced_distance_list)"
   ]
  },
  {
   "cell_type": "code",
   "execution_count": 62,
   "metadata": {},
   "outputs": [],
   "source": [
    "import numpy as np\n",
    "import matplotlib.pyplot as plt\n",
    "X = np.random.normal(0, 1, [5000, 2])\n",
    "Y = np.random.normal(0.5, 1, [5000, 2]) \n",
    "data = np.concatenate([X,Y])\n",
    "classes = np.concatenate([np.repeat('X', X.shape[0]),\n",
    "                          np.repeat('Y', Y.shape[0])])\n",
    "plot_idx = np.random.permutation(data.shape[0])"
   ]
  },
  {
   "cell_type": "code",
   "execution_count": 63,
   "metadata": {},
   "outputs": [],
   "source": [
    "test = data[plot_idx, 0]"
   ]
  },
  {
   "cell_type": "code",
   "execution_count": 64,
   "metadata": {},
   "outputs": [
    {
     "data": {
      "text/plain": [
       "(10000,)"
      ]
     },
     "execution_count": 64,
     "metadata": {},
     "output_type": "execute_result"
    }
   ],
   "source": [
    "test.shape"
   ]
  },
  {
   "cell_type": "code",
   "execution_count": 60,
   "metadata": {
    "scrolled": true
   },
   "outputs": [
    {
     "data": {
      "text/plain": [
       "(5000, 2)"
      ]
     },
     "execution_count": 60,
     "metadata": {},
     "output_type": "execute_result"
    }
   ],
   "source": [
    "X.shape"
   ]
  },
  {
   "cell_type": "code",
   "execution_count": 61,
   "metadata": {},
   "outputs": [
    {
     "data": {
      "text/plain": [
       "(10000, 2)"
      ]
     },
     "execution_count": 61,
     "metadata": {},
     "output_type": "execute_result"
    }
   ],
   "source": [
    "data.shape"
   ]
  },
  {
   "cell_type": "code",
   "execution_count": 34,
   "metadata": {},
   "outputs": [],
   "source": [
    "import numpy as np"
   ]
  },
  {
   "cell_type": "code",
   "execution_count": 36,
   "metadata": {},
   "outputs": [
    {
     "data": {
      "text/plain": [
       "7.633333333333334"
      ]
     },
     "execution_count": 36,
     "metadata": {},
     "output_type": "execute_result"
    }
   ],
   "source": [
    "np.mean(original_distance_list)"
   ]
  },
  {
   "cell_type": "code",
   "execution_count": 35,
   "metadata": {},
   "outputs": [
    {
     "data": {
      "text/plain": [
       "7.62"
      ]
     },
     "execution_count": 35,
     "metadata": {},
     "output_type": "execute_result"
    }
   ],
   "source": [
    "np.mean(reduced_noise_distance_list)"
   ]
  },
  {
   "cell_type": "code",
   "execution_count": 37,
   "metadata": {},
   "outputs": [
    {
     "data": {
      "text/plain": [
       "8.0"
      ]
     },
     "execution_count": 37,
     "metadata": {},
     "output_type": "execute_result"
    }
   ],
   "source": [
    "np.median(original_distance_list)"
   ]
  },
  {
   "cell_type": "code",
   "execution_count": 38,
   "metadata": {},
   "outputs": [
    {
     "data": {
      "text/plain": [
       "8.0"
      ]
     },
     "execution_count": 38,
     "metadata": {},
     "output_type": "execute_result"
    }
   ],
   "source": [
    "np.median(reduced_noise_distance_list)"
   ]
  },
  {
   "cell_type": "code",
   "execution_count": null,
   "metadata": {},
   "outputs": [],
   "source": []
  },
  {
   "cell_type": "code",
   "execution_count": 16,
   "metadata": {},
   "outputs": [
    {
     "ename": "SyntaxError",
     "evalue": "unexpected EOF while parsing (<ipython-input-16-6eecfa2d2432>, line 1)",
     "output_type": "error",
     "traceback": [
      "\u001b[0;36m  File \u001b[0;32m\"<ipython-input-16-6eecfa2d2432>\"\u001b[0;36m, line \u001b[0;32m1\u001b[0m\n\u001b[0;31m    for alignment_file, distances in results.items():\u001b[0m\n\u001b[0m                                                     ^\u001b[0m\n\u001b[0;31mSyntaxError\u001b[0m\u001b[0;31m:\u001b[0m unexpected EOF while parsing\n"
     ]
    }
   ],
   "source": [
    "for alignment_file, distances in results.items():\n",
    "    \n",
    "    "
   ]
  },
  {
   "cell_type": "code",
   "execution_count": null,
   "metadata": {},
   "outputs": [],
   "source": []
  }
 ],
 "metadata": {
  "kernelspec": {
   "display_name": "Python 3",
   "language": "python",
   "name": "python3"
  },
  "language_info": {
   "codemirror_mode": {
    "name": "ipython",
    "version": 3
   },
   "file_extension": ".py",
   "mimetype": "text/x-python",
   "name": "python",
   "nbconvert_exporter": "python",
   "pygments_lexer": "ipython3",
   "version": "3.6.6"
  }
 },
 "nbformat": 4,
 "nbformat_minor": 2
}

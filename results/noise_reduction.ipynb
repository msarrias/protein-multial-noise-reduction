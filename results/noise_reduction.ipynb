{
 "cells": [
  {
   "cell_type": "code",
   "execution_count": 61,
   "metadata": {},
   "outputs": [],
   "source": [
    "import sys\n",
    "import glob\n",
    "import os\n",
    "from Bio.Seq import Seq\n",
    "from Bio import SeqIO, AlignIO, Align, SeqRecord\n",
    "from collections import Counter\n"
   ]
  },
  {
   "cell_type": "code",
   "execution_count": 18,
   "metadata": {},
   "outputs": [],
   "source": [
    "def noise_filter(column):\n",
    "    \"\"\"\n",
    "    noise_filter is a function that determines whether an alignment column is noisy or not.\n",
    "    :param column: multiple sequence alignment column.\n",
    "    :return: boolean.\n",
    "    \"\"\"\n",
    "    indel = '-'\n",
    "    amino_counter = Counter(column)\n",
    "    if column.count(indel) > len(column) / 2:\n",
    "        return True\n",
    "    if len([key for key, value in amino_counter.items() if value == 1 ]) >= len(column) / 2:\n",
    "        return True\n",
    "    if max(amino_counter.values()) <= 2:\n",
    "        return True\n",
    "    return False     "
   ]
  },
  {
   "cell_type": "code",
   "execution_count": 97,
   "metadata": {},
   "outputs": [],
   "source": [
    "def reduce_noise(multiple_seq_alignment, alignment_path):\n",
    "    \"\"\"\n",
    "    reduce_noise is a function that filters all noisy columns.\n",
    "    :param multiple_seq_alignment: MultipleSeqAlignment.\n",
    "    :return: a MultipleSeqAlignment.\n",
    "    \"\"\"\n",
    "    noise_free_column_list = []\n",
    "    new_aligned_list = []\n",
    "    for i in range(multiple_seq_alignment.get_alignment_length()):\n",
    "        if not noise_filter(multiple_seq_alignment[:, i]):\n",
    "            noise_free_column_list.append(multiple_seq_alignment[:, i])\n",
    "    for i in range(len(multiple_seq_alignment)):\n",
    "        new_aligned_list.append(''.join([x[i] for x in noise_free_column_list]))\n",
    "    \n",
    "    record_list = Align.MultipleSeqAlignment([\n",
    "        SeqRecord.SeqRecord(Seq(new_seq), id=record.id, name=record.name, description=record.description)\n",
    "        for new_seq, record in zip(new_aligned_list, multiple_seq_alignment)\n",
    "     ])\n",
    "    alignment_filename = alignment_path.split('/')[-1]\n",
    "    if multiple_seq_alignment.get_alignment_length() == record_list.get_alignment_length():\n",
    "        print(f'{alignment_filename}'+ '>> WARNING: no noise reduction')\n",
    "    if (record_list.get_alignment_length()  < multiple_seq_alignment.get_alignment_length() / 2 and \n",
    "        multiple_seq_alignment.get_alignment_length() - record_list.get_alignment_length() > 0):\n",
    "        print(f'{alignment_filename}'+ '>> WARNING: more than 0.5 of the sequence is noise')\n",
    "    return record_list"
   ]
  },
  {
   "cell_type": "code",
   "execution_count": 98,
   "metadata": {},
   "outputs": [],
   "source": [
    "def perform_noise_reduction(alignment_path):\n",
    "    with open(alignment_path, mode='r') as aligned_file:\n",
    "        my_sequence_recorded = AlignIO.read(aligned_file, 'fasta')\n",
    "    return reduce_noise(my_sequence_recorded, alignment_path)"
   ]
  },
  {
   "cell_type": "code",
   "execution_count": 43,
   "metadata": {},
   "outputs": [],
   "source": [
    "with open('./test_data/test_more_0.5_noise.msl', mode='r') as aligned_file:\n",
    "    my_sequence_recorded2 = AlignIO.read(aligned_file, 'fasta')"
   ]
  },
  {
   "cell_type": "code",
   "execution_count": 101,
   "metadata": {},
   "outputs": [
    {
     "name": "stdout",
     "output_type": "stream",
     "text": [
      "test_no_noise.msl>> WARNING: no noise reduction\n"
     ]
    },
    {
     "data": {
      "text/plain": [
       "<<class 'Bio.Align.MultipleSeqAlignment'> instance (16 records of length 358, Alphabet()) at 10ae96fd0>"
      ]
     },
     "execution_count": 101,
     "metadata": {},
     "output_type": "execute_result"
    }
   ],
   "source": [
    "path = './test_data/test_no_noise.msl'\n",
    "perform_noise_reduction(path)\n"
   ]
  },
  {
   "cell_type": "code",
   "execution_count": 93,
   "metadata": {
    "collapsed": true
   },
   "outputs": [
    {
     "name": "stdout",
     "output_type": "stream",
     "text": [
      "test_empty.msl>> ERROR: empty file.\n"
     ]
    },
    {
     "ename": "ValueError",
     "evalue": "No records found in handle",
     "output_type": "error",
     "traceback": [
      "\u001b[0;31m---------------------------------------------------------------------------\u001b[0m",
      "\u001b[0;31mValueError\u001b[0m                                Traceback (most recent call last)",
      "\u001b[0;32m<ipython-input-93-6f52dd039f38>\u001b[0m in \u001b[0;36m<module>\u001b[0;34m\u001b[0m\n\u001b[1;32m      1\u001b[0m \u001b[0maf\u001b[0m \u001b[0;34m=\u001b[0m \u001b[0;34m'./test_data/test_empty.msl'\u001b[0m\u001b[0;34m\u001b[0m\u001b[0m\n\u001b[0;32m----> 2\u001b[0;31m \u001b[0mperform_noise_reduction\u001b[0m\u001b[0;34m(\u001b[0m\u001b[0maf\u001b[0m\u001b[0;34m)\u001b[0m\u001b[0;34m\u001b[0m\u001b[0m\n\u001b[0m",
      "\u001b[0;32m<ipython-input-92-81bf9f1030c9>\u001b[0m in \u001b[0;36mperform_noise_reduction\u001b[0;34m(alignment_path)\u001b[0m\n\u001b[1;32m      5\u001b[0m \u001b[0;34m\u001b[0m\u001b[0m\n\u001b[1;32m      6\u001b[0m     \u001b[0;32mwith\u001b[0m \u001b[0mopen\u001b[0m\u001b[0;34m(\u001b[0m\u001b[0malignment_path\u001b[0m\u001b[0;34m,\u001b[0m \u001b[0mmode\u001b[0m\u001b[0;34m=\u001b[0m\u001b[0;34m'r'\u001b[0m\u001b[0;34m)\u001b[0m \u001b[0;32mas\u001b[0m \u001b[0maligned_file\u001b[0m\u001b[0;34m:\u001b[0m\u001b[0;34m\u001b[0m\u001b[0m\n\u001b[0;32m----> 7\u001b[0;31m             \u001b[0mmy_sequence_recorded\u001b[0m \u001b[0;34m=\u001b[0m \u001b[0mAlignIO\u001b[0m\u001b[0;34m.\u001b[0m\u001b[0mread\u001b[0m\u001b[0;34m(\u001b[0m\u001b[0maligned_file\u001b[0m\u001b[0;34m,\u001b[0m \u001b[0;34m'fasta'\u001b[0m\u001b[0;34m)\u001b[0m\u001b[0;34m\u001b[0m\u001b[0m\n\u001b[0m\u001b[1;32m      8\u001b[0m \u001b[0;34m\u001b[0m\u001b[0m\n\u001b[1;32m      9\u001b[0m     \u001b[0;32mreturn\u001b[0m \u001b[0mreduce_noise\u001b[0m\u001b[0;34m(\u001b[0m\u001b[0mmy_sequence_recorded\u001b[0m\u001b[0;34m,\u001b[0m \u001b[0malignment_path\u001b[0m\u001b[0;34m)\u001b[0m\u001b[0;34m\u001b[0m\u001b[0m\n",
      "\u001b[0;32m~/Desktop/MSM/03-Applied_Bioinformatics/Labs/01_Python/Environments/bio_environment/lib/python3.6/site-packages/Bio/AlignIO/__init__.py\u001b[0m in \u001b[0;36mread\u001b[0;34m(handle, format, seq_count, alphabet)\u001b[0m\n\u001b[1;32m    437\u001b[0m         \u001b[0mfirst\u001b[0m \u001b[0;34m=\u001b[0m \u001b[0;32mNone\u001b[0m\u001b[0;34m\u001b[0m\u001b[0m\n\u001b[1;32m    438\u001b[0m     \u001b[0;32mif\u001b[0m \u001b[0mfirst\u001b[0m \u001b[0;32mis\u001b[0m \u001b[0;32mNone\u001b[0m\u001b[0;34m:\u001b[0m\u001b[0;34m\u001b[0m\u001b[0m\n\u001b[0;32m--> 439\u001b[0;31m         \u001b[0;32mraise\u001b[0m \u001b[0mValueError\u001b[0m\u001b[0;34m(\u001b[0m\u001b[0;34m\"No records found in handle\"\u001b[0m\u001b[0;34m)\u001b[0m\u001b[0;34m\u001b[0m\u001b[0m\n\u001b[0m\u001b[1;32m    440\u001b[0m     \u001b[0;32mtry\u001b[0m\u001b[0;34m:\u001b[0m\u001b[0;34m\u001b[0m\u001b[0m\n\u001b[1;32m    441\u001b[0m         \u001b[0msecond\u001b[0m \u001b[0;34m=\u001b[0m \u001b[0mnext\u001b[0m\u001b[0;34m(\u001b[0m\u001b[0miterator\u001b[0m\u001b[0;34m)\u001b[0m\u001b[0;34m\u001b[0m\u001b[0m\n",
      "\u001b[0;31mValueError\u001b[0m: No records found in handle"
     ]
    }
   ],
   "source": [
    "af = './test_data/test_empty.msl'\n",
    "perform_noise_reduction(af)"
   ]
  },
  {
   "cell_type": "code",
   "execution_count": 14,
   "metadata": {},
   "outputs": [],
   "source": [
    "original_dir = '/Users/user/Desktop/MSM/03-Applied_Bioinformatics/Labs/03_Project/protein_multial_noise_reduction/data/test_data'\n",
    "reduced_dir = '/Users/user/Desktop/MSM/03-Applied_Bioinformatics/Labs/03_Project/protein_multial_noise_reduction/data/reduced_test_data'\n",
    "result_dir =  '/Users/user/Desktop/MSM/03-Applied_Bioinformatics/Labs/03_Project/protein_multial_noise_reduction/results'\n",
    "directories = []\n",
    "\n",
    "for folder in glob.glob(original_dir +'/*'):\n",
    "    sub_folder_name = folder.split('/')[-1]\n",
    "    directories.append(sub_folder_name)\n",
    "    \n",
    "for directory in directories:  \n",
    "    original_dir_path = os.path.join(original_dir, directory)\n",
    "    new_folder_path = os.path.join(reduced_dir, directory)\n",
    "    os.makedirs(new_folder_path, exist_ok=True)\n",
    "\n",
    "    for alignment_path in glob.glob(original_dir_path + '/*.msl'):\n",
    "        alignment_filename = alignment_path.split('/')[-1]\n",
    "        if os.stat(alignment_path).st_size == 0:\n",
    "            sys.exit(f'{alignment_filename}'+ '>> ERROR: empty file.')\n",
    "        return Align.MultipleSeqAlignment(SeqRecord.SeqRecord(Seq('')))\n",
    "        \n",
    "        record_list = perform_noise_reduction(alignment_path)\n",
    "        if record_list.get_alignment_length() == 0:\n",
    "            sys.exit(f'{alignment_filename}'+ '>> WARNING: all columns are noisy.')\n",
    "            \n",
    "        reduced_filename_out = os.path.join(new_folder_path, alignment_filename)\n",
    "        AlignIO.write(record_list, reduced_filename_out, \"fasta\")\n",
    "    \n",
    "    \n",
    "    "
   ]
  }
 ],
 "metadata": {
  "kernelspec": {
   "display_name": "Python 3",
   "language": "python",
   "name": "python3"
  },
  "language_info": {
   "codemirror_mode": {
    "name": "ipython",
    "version": 3
   },
   "file_extension": ".py",
   "mimetype": "text/x-python",
   "name": "python",
   "nbconvert_exporter": "python",
   "pygments_lexer": "ipython3",
   "version": "3.6.6"
  }
 },
 "nbformat": 4,
 "nbformat_minor": 2
}

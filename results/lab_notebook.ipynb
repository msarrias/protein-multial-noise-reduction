{
 "cells": [
  {
   "cell_type": "markdown",
   "metadata": {},
   "source": [
    "## Project Lab Notebook\n",
    "### Marina Herrera Sarrias\n"
   ]
  },
  {
   "cell_type": "markdown",
   "metadata": {},
   "source": [
    "## Date: 2018-12-31"
   ]
  },
  {
   "cell_type": "markdown",
   "metadata": {},
   "source": [
    "I started by defining the project's layout following the recommended structure by the course centerpiece gideline. I also created a github repository (__[https://github.com/msarrias/protein_multial_noise_reduction](https://github.com/msarrias/protein_multial_noise_reduction)__\n",
    ") to keep track of the project's versions. I downloaded the fixed data sets that will be used for the experiment and defined a list of tasks and things I would like to include and take into consideration following the guidelines. "
   ]
  },
  {
   "cell_type": "markdown",
   "metadata": {},
   "source": [
    "Project Layout:\n",
    "Top level organization: protein_multial_noise_reduction<br>\n",
    "\n",
    "./doc/ <br>\n",
    "./data/<br>\n",
    "./src/<br>\n",
    "./bin/<br>\n",
    "./results/<br>"
   ]
  },
  {
   "cell_type": "markdown",
   "metadata": {},
   "source": [
    "\n",
    "\n",
    "./data/ <br>\n",
    "$\\qquad$./data/raw_data/<br>\n",
    "$\\qquad$./data/noise_reduced_data/<br>\n",
    "\n",
    "\n",
    "As the whole project is performed only with the data sets contained in appbio11, I wont follow a chronological organization for the data directory. (adviced on the __[Course centerpice](https://journals.plos.org/ploscompbiol/article?id=10.1371/journal.pcbi.1000424#s8)__) but I will rename the directory to *raw_data*.\n"
   ]
  },
  {
   "cell_type": "markdown",
   "metadata": {},
   "source": [
    "the **doc**  recository will contain the project_report, the **data** repository will contain the raw_data, the **src** directory will contain all of my scrips, I am still now very sure if I will use the **bin** repository, finally the **results** directory will contain the labnotebook,  a set of test data and a set of control cases files used to verify the program's error handling."
   ]
  },
  {
   "cell_type": "markdown",
   "metadata": {},
   "source": [
    "**raw_data:** containes six subdirectories:\n",
    "\n",
    "./raw_data/ <br>\n",
    "$\\qquad$./raw_data/asymmetric_0.5/<br>\n",
    "$\\qquad$./raw_data/asymmetric_1.0/<br>\n",
    "$\\qquad$./raw_data/asymmetric_2.0/<br>\n",
    "$\\qquad$./raw_data/symmetric_0.5/<br>\n",
    "$\\qquad$./raw_data/symmetric_1.0/<br>\n",
    "$\\qquad$./raw_data/symmetric_2.0/<br>\n"
   ]
  },
  {
   "cell_type": "markdown",
   "metadata": {},
   "source": [
    "\n",
    "### Date: 2019-01-01"
   ]
  },
  {
   "cell_type": "markdown",
   "metadata": {},
   "source": [
    "Project setup: I defined which structure I will like to follow to develop the project. And tried to understand what is the project's idea and what is it that I want to achive with it. I defined the major tasks I have to develope and how I want to structure the scripts. I will divide the program's tasks in three parts, which are:\n",
    "1. Filtering and redusing noisy columns.\n",
    "2. Caluculating distance matrix and inferring the trees.\n",
    "3. Comparing the trees calculating the symmetric distance.<br>\n",
    "After coding the different parts of the program I will introduce the error handling and test the program with a reduced data set of the raw_data, which can be found on the results directory.<br>\n",
    "\n",
    "Find and Remove Noisy colums:I defined a function (noise_filter) for filtering the noisy columns. Aterwards I created a function (reduce_noise) for reducing the noise in the alignments, and finally a function (perform_noise_reduction) for reading the file and performing the reduction. The program geenrates a new directory for the noise reduced alignments."
   ]
  },
  {
   "cell_type": "markdown",
   "metadata": {},
   "source": [
    "### Date: 2019-01-02"
   ]
  },
  {
   "cell_type": "markdown",
   "metadata": {},
   "source": [
    "I created the script for generating the distance matrices and the inferred trees (for the original and noise reduced tree). For this task I used the phylogenetic software FastPhylo.The program Fastprot was used for generating the distance matrices and the program fnj for inferring the trees. The  function computing_and_writing_alignment_tree performs both tasks. A file with the inferred tree is finally saved on both (raw_data and noise_reduced_data) directories. <br>\n",
    "<br>\n",
    "For the last task of the project, using the Python package DendroPy. I computed the symmetric distances between the reference trees and inferred trees (both cases, noise reduced and original alignments) with the function compare_trees, and the function compute_distance_between_trees for reading the tree and performing the computation."
   ]
  },
  {
   "cell_type": "markdown",
   "metadata": {},
   "source": [
    "### Date: 2019-01-03"
   ]
  },
  {
   "cell_type": "markdown",
   "metadata": {},
   "source": [
    "I created a data set for testing the three scripts, this data set was taken from the original raw_data set, I also introduced some sequences I created myself for controlling the functionality of the programs. I introduced error handling at all levels of the scripts.\n",
    "\n",
    "I generated a final scripts that performs all the tasks of the project."
   ]
  },
  {
   "cell_type": "markdown",
   "metadata": {},
   "source": [
    "### Date: 2019-01-04"
   ]
  },
  {
   "cell_type": "markdown",
   "metadata": {},
   "source": [
    "I runned the run_program script  on the fixed data and started working on the statistics."
   ]
  },
  {
   "cell_type": "markdown",
   "metadata": {},
   "source": [
    "### Date: 2019-01-05"
   ]
  },
  {
   "cell_type": "markdown",
   "metadata": {},
   "source": [
    "Generated the project report using Latex and added comments to the script."
   ]
  }
 ],
 "metadata": {
  "kernelspec": {
   "display_name": "Python 3",
   "language": "python",
   "name": "python3"
  },
  "language_info": {
   "codemirror_mode": {
    "name": "ipython",
    "version": 3
   },
   "file_extension": ".py",
   "mimetype": "text/x-python",
   "name": "python",
   "nbconvert_exporter": "python",
   "pygments_lexer": "ipython3",
   "version": "3.6.6"
  }
 },
 "nbformat": 4,
 "nbformat_minor": 2
}

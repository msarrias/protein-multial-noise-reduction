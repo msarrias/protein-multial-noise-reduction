{
 "cells": [
  {
   "cell_type": "code",
   "execution_count": 1,
   "metadata": {},
   "outputs": [],
   "source": [
    "import glob\n",
    "import os\n",
    "import json\n",
    "import dendropy\n",
    "from dendropy.calculate import treecompare"
   ]
  },
  {
   "cell_type": "code",
   "execution_count": 2,
   "metadata": {},
   "outputs": [],
   "source": [
    "def compare_trees(ref_tree, mutated_tree, is_bipartitions_updated=False):\n",
    "    ref_tree.encode_bipartitions()\n",
    "    mutated_tree.encode_bipartitions()\n",
    "    sd = treecompare.symmetric_difference(ref_tree, mutated_tree)\n",
    "    return (sd)\n",
    "   "
   ]
  },
  {
   "cell_type": "code",
   "execution_count": 3,
   "metadata": {},
   "outputs": [],
   "source": [
    "def compute_distance_between_trees(tree_file_path, reference_tree):\n",
    "    with open(tree_file_path, mode='r') as reduced_noise_tree_file:\n",
    "            reduced_noise_tree_str = ''.join(list(reduced_noise_tree_file)) \n",
    "            reduced_noise_tree = dendropy.Tree.get_from_string(\n",
    "                reduced_noise_tree_str,\n",
    "                schema=\"newick\",\n",
    "                taxon_namespace=tns\n",
    "            )\n",
    "    return compare_trees(reference_tree, reduced_noise_tree)"
   ]
  },
  {
   "cell_type": "code",
   "execution_count": 6,
   "metadata": {},
   "outputs": [
    {
     "data": {
      "text/plain": [
       "'/Users/user/Desktop/MSM/03-Applied_Bioinformatics/Labs/03_Project/protein_multial_noise_reduction/data/test_data/test_2/asymmetric_1.0.tree'"
      ]
     },
     "execution_count": 6,
     "metadata": {},
     "output_type": "execute_result"
    }
   ],
   "source": [
    "reference_tree_path"
   ]
  },
  {
   "cell_type": "code",
   "execution_count": 4,
   "metadata": {},
   "outputs": [],
   "source": [
    "original_dir = '/Users/user/Desktop/MSM/03-Applied_Bioinformatics/Labs/03_Project/protein_multial_noise_reduction/data/test_data'\n",
    "reduced_dir = '/Users/user/Desktop/MSM/03-Applied_Bioinformatics/Labs/03_Project/protein_multial_noise_reduction/data/reduced_test_data'\n",
    "result_dir =  '/Users/user/Desktop/MSM/03-Applied_Bioinformatics/Labs/03_Project/protein_multial_noise_reduction/results'\n",
    "directories = []\n",
    "tns = dendropy.TaxonNamespace()\n",
    "\n",
    "for folder in glob.glob(original_dir +'/*'):\n",
    "    sub_folder_name = folder.split('/')[-1]\n",
    "    directories.append(sub_folder_name)\n",
    "\n",
    "compare_trees_dictionary = dict()\n",
    "\n",
    "for directory in directories:  \n",
    "    original_dir_path = os.path.join(original_dir, directory)\n",
    "    new_folder_path = os.path.join(reduced_dir, directory)\n",
    "    reference_tree_path = glob.glob(original_dir_path +'/*.tree')[0]\n",
    "    with open(reference_tree_path, mode='r') as ref_tree_file:\n",
    "        ref_tree_str = ''.join(list(ref_tree_file))\n",
    "        reference_tree = dendropy.Tree.get_from_string(\n",
    "        ref_tree_str,\n",
    "        schema=\"newick\",\n",
    "        taxon_namespace=tns\n",
    "    )\n",
    "    folder_dict_key_name = original_dir_path.split('/')[-1]\n",
    "\n",
    "    compare_trees_dictionary[folder_dict_key_name] = dict()\n",
    "    \n",
    "    for alignment_path in glob.glob(original_dir_path + '/*.msl'):\n",
    "        # computing distance between ref tree and infered trees\n",
    "        reduced_alignment_name = alignment_path.split('/')[-1]\n",
    "        reduced_filename_out = os.path.join(new_folder_path, reduced_alignment_name)\n",
    "        tree_outfile_reduced = reduced_filename_out[:-3] + 'tree'\n",
    "        \n",
    "        alignment_name = alignment_path.split('/')[-1]\n",
    "        filename_out = os.path.join(original_dir_path, alignment_name)\n",
    "        tree_outfile = filename_out[:-3] + 'tree'\n",
    "        \n",
    "        noise_reduced_distance = compute_distance_between_trees(tree_outfile_reduced, reference_tree)\n",
    "        original_distance = compute_distance_between_trees(tree_outfile, reference_tree)\n",
    "        \n",
    "        alignment_key_name = alignment_name[:-3]\n",
    "        compare_trees_dictionary[folder_dict_key_name][alignment_key_name] = (\n",
    "            original_distance, noise_reduced_distance\n",
    "        )\n",
    "distance_results_path = os.path.join(result_dir, 'distance_result_dict')\n",
    "with open(distance_results_path, 'w') as result_dir_file:\n",
    "    json.dump(compare_trees_dictionary, result_dir_file)\n",
    "\n",
    "\n"
   ]
  },
  {
   "cell_type": "code",
   "execution_count": null,
   "metadata": {},
   "outputs": [],
   "source": []
  },
  {
   "cell_type": "code",
   "execution_count": 5,
   "metadata": {},
   "outputs": [
    {
     "data": {
      "text/plain": [
       "{'test': {'s001.align.1.': (4, 4),\n",
       "  's002.align.1.': (6, 6),\n",
       "  's003.align.1.': (8, 6),\n",
       "  's004.align.1.': (6, 4),\n",
       "  's005.align.1.': (6, 6),\n",
       "  's006.align.1.': (12, 12),\n",
       "  's007.align.1.': (6, 10),\n",
       "  's008.align.1.': (8, 10),\n",
       "  's009.align.1.': (6, 6),\n",
       "  's010.align.1.': (8, 8)},\n",
       " 'test_2': {'s001.align.1.': (6, 4),\n",
       "  's002.align.1.': (8, 8),\n",
       "  's003.align.1.': (12, 12),\n",
       "  's004.align.1.': (10, 12),\n",
       "  's005.align.1.': (6, 8),\n",
       "  's006.align.1.': (14, 8),\n",
       "  's007.align.1.': (14, 14),\n",
       "  's008.align.1.': (12, 12),\n",
       "  's009.align.1.': (10, 10),\n",
       "  's010.align.1.': (10, 12)}}"
      ]
     },
     "execution_count": 5,
     "metadata": {},
     "output_type": "execute_result"
    }
   ],
   "source": [
    "compare_trees_dictionary"
   ]
  },
  {
   "cell_type": "code",
   "execution_count": null,
   "metadata": {},
   "outputs": [],
   "source": []
  }
 ],
 "metadata": {
  "kernelspec": {
   "display_name": "Python 3",
   "language": "python",
   "name": "python3"
  },
  "language_info": {
   "codemirror_mode": {
    "name": "ipython",
    "version": 3
   },
   "file_extension": ".py",
   "mimetype": "text/x-python",
   "name": "python",
   "nbconvert_exporter": "python",
   "pygments_lexer": "ipython3",
   "version": "3.6.6"
  }
 },
 "nbformat": 4,
 "nbformat_minor": 2
}
